{
 "cells": [
  {
   "cell_type": "code",
   "execution_count": null,
   "metadata": {
    "collapsed": true
   },
   "outputs": [],
   "source": [
    "import pandas as pd\n",
    "import numpy as np"
   ]
  },
  {
   "cell_type": "code",
   "execution_count": null,
   "metadata": {
    "collapsed": true
   },
   "outputs": [],
   "source": [
    "df=pd.read_csv(\"../example.csv\")"
   ]
  },
  {
   "cell_type": "code",
   "execution_count": null,
   "metadata": {
    "collapsed": true
   },
   "outputs": [],
   "source": [
    "industry_list = [\n",
    "    'Agricultural Products','Air Freight','Airlines','Airlines/ Railroads','Aluminum','Auto Parts & Equipment',\n",
    "    'Banks & Thrifts','Banks (Major Regional)','Banks (Money Center)','Banks (Regional)','Beverages', 'Beverages (Alcoholic)',\n",
    "    'Beverages (Non-Alcoholic)','Biotechnolog','Broadcasting (TV,Radio,Cable)','Building Materials','Business Staples',\n",
    "    'Cellular/Wireless Telecom','Chemicals','Communication Services','Communications', 'Communications Equipment','Computer Hardware',\n",
    "    'Computer Services','Computer Software','Computers (Networking)','Computers (Peripherals)',\n",
    "    'Consumer (Jewelry / Novelties)','Consumer Cvclicals','Consumer Discretionary','Consumer Finance','Consumer Staples',\n",
    "    'Containers-Metal & Glass','Containers/Packaging (Paper)',\n",
    "    'Distributors (Durables)','Distributors (Food & Health)','Diversified Companies','Diversified Metals','Drugs/ Pharmaceuticals',\n",
    "    'Electric Companies','Electric Utilities','Electrical Equipment & Companies','Electronics', 'Electronics (Defense)',\n",
    "    'Electronics/Semiconductors','Energy','Engineering & Construction','Entertainment',\n",
    "    'Financial (Diversified)','Financials','Food & Beverages','Food/ Food Stores','Foods',\n",
    "    'Gaming, Lottery & Parimutuels','Generalist','Gold/ Precious Metals',\n",
    "    'Hardware & Tools','Health Care','Health Care (Diversified)','Health Care (Drugs)','Health Care (Hospital Mgmt)','Health Care (Long Term)',\n",
    "    'Health Care (Managed Care)','Health Care (Med Products)','Health Care (Special Services)','High Tech','High Tech - Hardware',\n",
    "    'High Tech - Software','Holding Companies','Homebuilding','Household Furnishings''Household Products','Housewares',\n",
    "    'Industrials','Insurance','Insurance (Life/Health)','Insurance (Multi-Line)','Insurance (Property-Casualty)','Insurance Brokers',\n",
    "    'Integrated Telecom','Internet','Investment Banking/ Broker','Investment Management','Investment Trust',\n",
    "    'Leisure Cydicals','Lodging-Hotels','Lodging-Hotels/ Restaurants',\n",
    "    'Machinery','Manufacturing (Diversified)','Manufacturing (Specialized)','Materials','Media Cyclicals','Metal Fabricators',\n",
    "    'Metals','Metals/ Mining','Mining','Miscellaneous Transport','Multi-Industry','Mutual Funds',\n",
    "    'Natural Gas','Non-Bank Financial','Non-Electric Utilities','Non-Metals Mining',\n",
    "    'Office Equipment & Supplies','Oil & Gas','Oil & Gas (Domestic)','Oil & Gas (Exploration)','Oil & Gas (International)',\n",
    "    'Oil & Gas (Refinging & Mktg)', 'Oil & Gas (Services)',\n",
    "    'Paper & Forest Products','Personal Care','Photography / Imaging','Power Producers','Publishing','Publishing-Newspapers','Publishing/ Broadcasting', \n",
    "    'REIT-Factory Outlets', 'REIT-Health Care', 'REIT-Hotels', 'REIT-Indus trial Property', 'REIT-Manufactured Housing',\n",
    "    'REIT-Mixed Properties', 'REIT-Office Properties', 'REIT-Regional Malls', 'REIT-Self-Storage', 'REIT-Shopping Centers',\n",
    "    'REITs', 'Railroads', 'Railroads/ Trucking', 'Real Estate', 'Restaurants', 'Retail (Building Supplies)', 'Retail (Computers)',\n",
    "    'Retail (Discounters)', 'Retail (Footwear)', 'Retail (Home Shopping)', 'Retail Specialty-Apparel', 'Retail Stores - Gen’l Mdse',\n",
    "    'Retail Stores-Dept Stores', 'Retail Stores-Drug Store', 'Retail Stores-Food Chains', 'Retail-Specialty', \n",
    "    'Savings & Loan Companies', 'Semiconductors', 'Services (Advertising/ Mktg)', 'Services (Commercial)', 'Services (Employment)',\n",
    "    'Services (Facilities)', 'Services (Rentals)', 'Shipping', 'Special Situations', 'Specialty Communications', \n",
    "    'Technology', 'Telecommunication Service', 'Telephone-Local', 'Telephone-Long Distance', 'Textiles', 'Transportation',\n",
    "    'Truckers', 'Trucks & Parts',\n",
    "    'Utilities',\n",
    "    'Waste Management', 'Water Utilities' \n",
    "]"
   ]
  }
 ],
 "metadata": {
  "kernelspec": {
   "display_name": "Python 2",
   "language": "python",
   "name": "python2"
  },
  "language_info": {
   "codemirror_mode": {
    "name": "ipython",
    "version": 2
   },
   "file_extension": ".py",
   "mimetype": "text/x-python",
   "name": "python",
   "nbconvert_exporter": "python",
   "pygments_lexer": "ipython2",
   "version": "2.7.13"
  }
 },
 "nbformat": 4,
 "nbformat_minor": 2
}
